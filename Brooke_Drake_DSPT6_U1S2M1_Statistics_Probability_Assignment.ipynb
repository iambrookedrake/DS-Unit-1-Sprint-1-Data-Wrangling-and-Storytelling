{
  "nbformat": 4,
  "nbformat_minor": 0,
  "metadata": {
    "kernelspec": {
      "display_name": "Python 3",
      "language": "python",
      "name": "python3"
    },
    "language_info": {
      "codemirror_mode": {
        "name": "ipython",
        "version": 3
      },
      "file_extension": ".py",
      "mimetype": "text/x-python",
      "name": "python",
      "nbconvert_exporter": "python",
      "pygments_lexer": "ipython3",
      "version": "3.7.3"
    },
    "colab": {
      "name": "Brooke_Drake_DSPT6_U1S2M1_Statistics_Probability_Assignment.ipynb",
      "provenance": [],
      "include_colab_link": true
    }
  },
  "cells": [
    {
      "cell_type": "markdown",
      "metadata": {
        "id": "view-in-github",
        "colab_type": "text"
      },
      "source": [
        "<a href=\"https://colab.research.google.com/github/iambrookedrake/DS-Unit-1-Sprint-1-Data-Wrangling-and-Storytelling/blob/master/Brooke_Drake_DSPT6_U1S2M1_Statistics_Probability_Assignment.ipynb\" target=\"_parent\"><img src=\"https://colab.research.google.com/assets/colab-badge.svg\" alt=\"Open In Colab\"/></a>"
      ]
    },
    {
      "cell_type": "markdown",
      "metadata": {
        "id": "Sa5KWMO1ngPN",
        "colab_type": "text"
      },
      "source": [
        "<img align=\"left\" src=\"https://lever-client-logos.s3.amazonaws.com/864372b1-534c-480e-acd5-9711f850815c-1524247202159.png\" width=200>\n",
        "<br></br>\n",
        "<br></br>\n",
        "\n",
        "## *Data Science Unit 1 Sprint 2 Assignment 1*\n",
        "\n",
        "# Apply the t-test to real data\n",
        "\n",
        "Your assignment is to determine which issues have \"statistically significant\" differences between political parties in this [1980s congressional voting data](https://archive.ics.uci.edu/ml/datasets/Congressional+Voting+Records). The data consists of 435 instances (one for each congressperson), a class (democrat or republican), and 16 binary attributes (yes or no for voting for or against certain issues). Be aware - there are missing values!\n",
        "\n",
        "Your goals:\n",
        "\n",
        "1. Load and clean the data (or determine the best method to drop observations when running tests)\n",
        "2. Using hypothesis testing, find an issue that democrats support more than republicans with p < 0.01\n",
        "3. Using hypothesis testing, find an issue that republicans support more than democrats with p < 0.01\n",
        "4. Using hypothesis testing, find an issue where the difference between republicans and democrats has p > 0.1 (i.e. there may not be much of a difference)\n",
        "\n",
        "Note that this data will involve *2 sample* t-tests, because you're comparing averages across two groups (republicans and democrats) rather than a single group against a null hypothesis."
      ]
    },
    {
      "cell_type": "code",
      "metadata": {
        "id": "ZKwspo2CngPP",
        "colab_type": "code",
        "colab": {
          "base_uri": "https://localhost:8080/",
          "height": 263
        },
        "outputId": "b5a8754b-c2f8-4082-a94c-0b93a887e516"
      },
      "source": [
        "### YOUR CODE STARTS HERE\n",
        "!wget https://archive.ics.uci.edu/ml/machine-learning-databases/voting-records/ --no-check-certificate\n"
      ],
      "execution_count": 2,
      "outputs": [
        {
          "output_type": "stream",
          "text": [
            "--2020-04-09 01:07:06--  https://archive.ics.uci.edu/ml/machine-learning-databases/voting-records/\n",
            "Resolving archive.ics.uci.edu (archive.ics.uci.edu)... 128.195.10.252\n",
            "Connecting to archive.ics.uci.edu (archive.ics.uci.edu)|128.195.10.252|:443... connected.\n",
            "WARNING: cannot verify archive.ics.uci.edu's certificate, issued by ‘CN=InCommon RSA Server CA,OU=InCommon,O=Internet2,L=Ann Arbor,ST=MI,C=US’:\n",
            "  Issued certificate has expired.\n",
            "HTTP request sent, awaiting response... 200 OK\n",
            "Length: 1602 (1.6K) [text/html]\n",
            "Saving to: ‘index.html’\n",
            "\n",
            "index.html          100%[===================>]   1.56K  --.-KB/s    in 0s      \n",
            "\n",
            "2020-04-09 01:07:06 (47.5 MB/s) - ‘index.html’ saved [1602/1602]\n",
            "\n"
          ],
          "name": "stdout"
        }
      ]
    },
    {
      "cell_type": "code",
      "metadata": {
        "id": "fcUK3TiLdqZp",
        "colab_type": "code",
        "colab": {
          "base_uri": "https://localhost:8080/",
          "height": 263
        },
        "outputId": "17797212-ffb4-4f8a-e043-35692ab4ada6"
      },
      "source": [
        "!wget https://archive.ics.uci.edu/ml/machine-learning-databases/voting-records/house-votes-84.data --no-check-certificate"
      ],
      "execution_count": 3,
      "outputs": [
        {
          "output_type": "stream",
          "text": [
            "--2020-04-09 01:11:32--  https://archive.ics.uci.edu/ml/machine-learning-databases/voting-records/house-votes-84.data\n",
            "Resolving archive.ics.uci.edu (archive.ics.uci.edu)... 128.195.10.252\n",
            "Connecting to archive.ics.uci.edu (archive.ics.uci.edu)|128.195.10.252|:443... connected.\n",
            "WARNING: cannot verify archive.ics.uci.edu's certificate, issued by ‘CN=InCommon RSA Server CA,OU=InCommon,O=Internet2,L=Ann Arbor,ST=MI,C=US’:\n",
            "  Issued certificate has expired.\n",
            "HTTP request sent, awaiting response... 200 OK\n",
            "Length: 18171 (18K) [application/x-httpd-php]\n",
            "Saving to: ‘house-votes-84.data’\n",
            "\n",
            "\rhouse-votes-84.data   0%[                    ]       0  --.-KB/s               \rhouse-votes-84.data 100%[===================>]  17.75K  --.-KB/s    in 0.1s    \n",
            "\n",
            "2020-04-09 01:11:32 (137 KB/s) - ‘house-votes-84.data’ saved [18171/18171]\n",
            "\n"
          ],
          "name": "stdout"
        }
      ]
    },
    {
      "cell_type": "code",
      "metadata": {
        "id": "Ey5AxmVmgiVq",
        "colab_type": "code",
        "colab": {}
      },
      "source": [
        "import pandas as pd\n",
        "import numpy as np\n",
        "from scipy.stats import ttest_ind\n",
        "import matplotlib.pyplot as plt\n",
        "import seaborn as sns"
      ],
      "execution_count": 0,
      "outputs": []
    },
    {
      "cell_type": "code",
      "metadata": {
        "id": "wXytRU0edt0X",
        "colab_type": "code",
        "colab": {
          "base_uri": "https://localhost:8080/",
          "height": 263
        },
        "outputId": "fbcefef7-b1d1-44ae-cfa4-72cdf395bfad"
      },
      "source": [
        "!wget https://archive.ics.uci.edu/ml/machine-learning-databases/voting-records/house-votes-84.names --no-check-certificate"
      ],
      "execution_count": 10,
      "outputs": [
        {
          "output_type": "stream",
          "text": [
            "--2020-04-09 01:25:20--  https://archive.ics.uci.edu/ml/machine-learning-databases/voting-records/house-votes-84.names\n",
            "Resolving archive.ics.uci.edu (archive.ics.uci.edu)... 128.195.10.252\n",
            "Connecting to archive.ics.uci.edu (archive.ics.uci.edu)|128.195.10.252|:443... connected.\n",
            "WARNING: cannot verify archive.ics.uci.edu's certificate, issued by ‘CN=InCommon RSA Server CA,OU=InCommon,O=Internet2,L=Ann Arbor,ST=MI,C=US’:\n",
            "  Issued certificate has expired.\n",
            "HTTP request sent, awaiting response... 200 OK\n",
            "Length: 6868 (6.7K) [application/x-httpd-php]\n",
            "Saving to: ‘house-votes-84.names’\n",
            "\n",
            "house-votes-84.name 100%[===================>]   6.71K  --.-KB/s    in 0s      \n",
            "\n",
            "2020-04-09 01:25:21 (114 MB/s) - ‘house-votes-84.names’ saved [6868/6868]\n",
            "\n"
          ],
          "name": "stdout"
        }
      ]
    },
    {
      "cell_type": "code",
      "metadata": {
        "id": "etr8BlmOir1x",
        "colab_type": "code",
        "colab": {}
      },
      "source": [
        "columns = ['party', 'handicapped-infants', 'water-project-cost-sharing', \n",
        "           'adoption-of-the-budget-resolution', 'physician-fee-freeze', \n",
        "           'el-salvador-aid', 'religious-groups-in-schools', \n",
        "           'anti-satellite-test-ban', 'aid-to-nicaraguan-contras', 'mx-missile',\n",
        "           'immigration', 'synfuels-corporation-cutback', 'education-spending', \n",
        "           'superfund-right-to-sue', 'crime', 'duty-free-exports', \n",
        "           'export-administration-act-south-africa']"
      ],
      "execution_count": 0,
      "outputs": []
    },
    {
      "cell_type": "code",
      "metadata": {
        "id": "fRyFzmCEdtJj",
        "colab_type": "code",
        "colab": {
          "base_uri": "https://localhost:8080/",
          "height": 296
        },
        "outputId": "79f46103-a895-439f-b07b-b3a9d0db1118"
      },
      "source": [
        "votes = pd.read_csv('house-votes-84.data', header=None, names=columns)\n",
        "votes = votes.replace({'y':1, 'n':0})\n",
        "votes = votes.replace('?', np.nan)\n",
        "print(votes.shape)\n",
        "votes.head()"
      ],
      "execution_count": 69,
      "outputs": [
        {
          "output_type": "stream",
          "text": [
            "(435, 17)\n"
          ],
          "name": "stdout"
        },
        {
          "output_type": "execute_result",
          "data": {
            "text/html": [
              "<div>\n",
              "<style scoped>\n",
              "    .dataframe tbody tr th:only-of-type {\n",
              "        vertical-align: middle;\n",
              "    }\n",
              "\n",
              "    .dataframe tbody tr th {\n",
              "        vertical-align: top;\n",
              "    }\n",
              "\n",
              "    .dataframe thead th {\n",
              "        text-align: right;\n",
              "    }\n",
              "</style>\n",
              "<table border=\"1\" class=\"dataframe\">\n",
              "  <thead>\n",
              "    <tr style=\"text-align: right;\">\n",
              "      <th></th>\n",
              "      <th>party</th>\n",
              "      <th>handicapped-infants</th>\n",
              "      <th>water-project-cost-sharing</th>\n",
              "      <th>adoption-of-the-budget-resolution</th>\n",
              "      <th>physician-fee-freeze</th>\n",
              "      <th>el-salvador-aid</th>\n",
              "      <th>religious-groups-in-schools</th>\n",
              "      <th>anti-satellite-test-ban</th>\n",
              "      <th>aid-to-nicaraguan-contras</th>\n",
              "      <th>mx-missile</th>\n",
              "      <th>immigration</th>\n",
              "      <th>synfuels-corporation-cutback</th>\n",
              "      <th>education-spending</th>\n",
              "      <th>superfund-right-to-sue</th>\n",
              "      <th>crime</th>\n",
              "      <th>duty-free-exports</th>\n",
              "      <th>export-administration-act-south-africa</th>\n",
              "    </tr>\n",
              "  </thead>\n",
              "  <tbody>\n",
              "    <tr>\n",
              "      <th>0</th>\n",
              "      <td>republican</td>\n",
              "      <td>0.0</td>\n",
              "      <td>1.0</td>\n",
              "      <td>0.0</td>\n",
              "      <td>1.0</td>\n",
              "      <td>1.0</td>\n",
              "      <td>1.0</td>\n",
              "      <td>0.0</td>\n",
              "      <td>0.0</td>\n",
              "      <td>0.0</td>\n",
              "      <td>1.0</td>\n",
              "      <td>NaN</td>\n",
              "      <td>1.0</td>\n",
              "      <td>1.0</td>\n",
              "      <td>1.0</td>\n",
              "      <td>0.0</td>\n",
              "      <td>1.0</td>\n",
              "    </tr>\n",
              "    <tr>\n",
              "      <th>1</th>\n",
              "      <td>republican</td>\n",
              "      <td>0.0</td>\n",
              "      <td>1.0</td>\n",
              "      <td>0.0</td>\n",
              "      <td>1.0</td>\n",
              "      <td>1.0</td>\n",
              "      <td>1.0</td>\n",
              "      <td>0.0</td>\n",
              "      <td>0.0</td>\n",
              "      <td>0.0</td>\n",
              "      <td>0.0</td>\n",
              "      <td>0.0</td>\n",
              "      <td>1.0</td>\n",
              "      <td>1.0</td>\n",
              "      <td>1.0</td>\n",
              "      <td>0.0</td>\n",
              "      <td>NaN</td>\n",
              "    </tr>\n",
              "    <tr>\n",
              "      <th>2</th>\n",
              "      <td>democrat</td>\n",
              "      <td>NaN</td>\n",
              "      <td>1.0</td>\n",
              "      <td>1.0</td>\n",
              "      <td>NaN</td>\n",
              "      <td>1.0</td>\n",
              "      <td>1.0</td>\n",
              "      <td>0.0</td>\n",
              "      <td>0.0</td>\n",
              "      <td>0.0</td>\n",
              "      <td>0.0</td>\n",
              "      <td>1.0</td>\n",
              "      <td>0.0</td>\n",
              "      <td>1.0</td>\n",
              "      <td>1.0</td>\n",
              "      <td>0.0</td>\n",
              "      <td>0.0</td>\n",
              "    </tr>\n",
              "    <tr>\n",
              "      <th>3</th>\n",
              "      <td>democrat</td>\n",
              "      <td>0.0</td>\n",
              "      <td>1.0</td>\n",
              "      <td>1.0</td>\n",
              "      <td>0.0</td>\n",
              "      <td>NaN</td>\n",
              "      <td>1.0</td>\n",
              "      <td>0.0</td>\n",
              "      <td>0.0</td>\n",
              "      <td>0.0</td>\n",
              "      <td>0.0</td>\n",
              "      <td>1.0</td>\n",
              "      <td>0.0</td>\n",
              "      <td>1.0</td>\n",
              "      <td>0.0</td>\n",
              "      <td>0.0</td>\n",
              "      <td>1.0</td>\n",
              "    </tr>\n",
              "    <tr>\n",
              "      <th>4</th>\n",
              "      <td>democrat</td>\n",
              "      <td>1.0</td>\n",
              "      <td>1.0</td>\n",
              "      <td>1.0</td>\n",
              "      <td>0.0</td>\n",
              "      <td>1.0</td>\n",
              "      <td>1.0</td>\n",
              "      <td>0.0</td>\n",
              "      <td>0.0</td>\n",
              "      <td>0.0</td>\n",
              "      <td>0.0</td>\n",
              "      <td>1.0</td>\n",
              "      <td>NaN</td>\n",
              "      <td>1.0</td>\n",
              "      <td>1.0</td>\n",
              "      <td>1.0</td>\n",
              "      <td>1.0</td>\n",
              "    </tr>\n",
              "  </tbody>\n",
              "</table>\n",
              "</div>"
            ],
            "text/plain": [
              "        party  ...  export-administration-act-south-africa\n",
              "0  republican  ...                                     1.0\n",
              "1  republican  ...                                     NaN\n",
              "2    democrat  ...                                     0.0\n",
              "3    democrat  ...                                     1.0\n",
              "4    democrat  ...                                     1.0\n",
              "\n",
              "[5 rows x 17 columns]"
            ]
          },
          "metadata": {
            "tags": []
          },
          "execution_count": 69
        }
      ]
    },
    {
      "cell_type": "code",
      "metadata": {
        "id": "LToHkqsZnT5Z",
        "colab_type": "code",
        "colab": {
          "base_uri": "https://localhost:8080/",
          "height": 296
        },
        "outputId": "a5973e90-71d8-442b-e9fc-d28654f91329"
      },
      "source": [
        "rep = votes[votes['party']=='republican']\n",
        "print(rep.shape)\n",
        "rep.head()"
      ],
      "execution_count": 70,
      "outputs": [
        {
          "output_type": "stream",
          "text": [
            "(168, 17)\n"
          ],
          "name": "stdout"
        },
        {
          "output_type": "execute_result",
          "data": {
            "text/html": [
              "<div>\n",
              "<style scoped>\n",
              "    .dataframe tbody tr th:only-of-type {\n",
              "        vertical-align: middle;\n",
              "    }\n",
              "\n",
              "    .dataframe tbody tr th {\n",
              "        vertical-align: top;\n",
              "    }\n",
              "\n",
              "    .dataframe thead th {\n",
              "        text-align: right;\n",
              "    }\n",
              "</style>\n",
              "<table border=\"1\" class=\"dataframe\">\n",
              "  <thead>\n",
              "    <tr style=\"text-align: right;\">\n",
              "      <th></th>\n",
              "      <th>party</th>\n",
              "      <th>handicapped-infants</th>\n",
              "      <th>water-project-cost-sharing</th>\n",
              "      <th>adoption-of-the-budget-resolution</th>\n",
              "      <th>physician-fee-freeze</th>\n",
              "      <th>el-salvador-aid</th>\n",
              "      <th>religious-groups-in-schools</th>\n",
              "      <th>anti-satellite-test-ban</th>\n",
              "      <th>aid-to-nicaraguan-contras</th>\n",
              "      <th>mx-missile</th>\n",
              "      <th>immigration</th>\n",
              "      <th>synfuels-corporation-cutback</th>\n",
              "      <th>education-spending</th>\n",
              "      <th>superfund-right-to-sue</th>\n",
              "      <th>crime</th>\n",
              "      <th>duty-free-exports</th>\n",
              "      <th>export-administration-act-south-africa</th>\n",
              "    </tr>\n",
              "  </thead>\n",
              "  <tbody>\n",
              "    <tr>\n",
              "      <th>0</th>\n",
              "      <td>republican</td>\n",
              "      <td>0.0</td>\n",
              "      <td>1.0</td>\n",
              "      <td>0.0</td>\n",
              "      <td>1.0</td>\n",
              "      <td>1.0</td>\n",
              "      <td>1.0</td>\n",
              "      <td>0.0</td>\n",
              "      <td>0.0</td>\n",
              "      <td>0.0</td>\n",
              "      <td>1.0</td>\n",
              "      <td>NaN</td>\n",
              "      <td>1.0</td>\n",
              "      <td>1.0</td>\n",
              "      <td>1.0</td>\n",
              "      <td>0.0</td>\n",
              "      <td>1.0</td>\n",
              "    </tr>\n",
              "    <tr>\n",
              "      <th>1</th>\n",
              "      <td>republican</td>\n",
              "      <td>0.0</td>\n",
              "      <td>1.0</td>\n",
              "      <td>0.0</td>\n",
              "      <td>1.0</td>\n",
              "      <td>1.0</td>\n",
              "      <td>1.0</td>\n",
              "      <td>0.0</td>\n",
              "      <td>0.0</td>\n",
              "      <td>0.0</td>\n",
              "      <td>0.0</td>\n",
              "      <td>0.0</td>\n",
              "      <td>1.0</td>\n",
              "      <td>1.0</td>\n",
              "      <td>1.0</td>\n",
              "      <td>0.0</td>\n",
              "      <td>NaN</td>\n",
              "    </tr>\n",
              "    <tr>\n",
              "      <th>7</th>\n",
              "      <td>republican</td>\n",
              "      <td>0.0</td>\n",
              "      <td>1.0</td>\n",
              "      <td>0.0</td>\n",
              "      <td>1.0</td>\n",
              "      <td>1.0</td>\n",
              "      <td>1.0</td>\n",
              "      <td>0.0</td>\n",
              "      <td>0.0</td>\n",
              "      <td>0.0</td>\n",
              "      <td>0.0</td>\n",
              "      <td>0.0</td>\n",
              "      <td>0.0</td>\n",
              "      <td>1.0</td>\n",
              "      <td>1.0</td>\n",
              "      <td>NaN</td>\n",
              "      <td>1.0</td>\n",
              "    </tr>\n",
              "    <tr>\n",
              "      <th>8</th>\n",
              "      <td>republican</td>\n",
              "      <td>0.0</td>\n",
              "      <td>1.0</td>\n",
              "      <td>0.0</td>\n",
              "      <td>1.0</td>\n",
              "      <td>1.0</td>\n",
              "      <td>1.0</td>\n",
              "      <td>0.0</td>\n",
              "      <td>0.0</td>\n",
              "      <td>0.0</td>\n",
              "      <td>0.0</td>\n",
              "      <td>0.0</td>\n",
              "      <td>1.0</td>\n",
              "      <td>1.0</td>\n",
              "      <td>1.0</td>\n",
              "      <td>0.0</td>\n",
              "      <td>1.0</td>\n",
              "    </tr>\n",
              "    <tr>\n",
              "      <th>10</th>\n",
              "      <td>republican</td>\n",
              "      <td>0.0</td>\n",
              "      <td>1.0</td>\n",
              "      <td>0.0</td>\n",
              "      <td>1.0</td>\n",
              "      <td>1.0</td>\n",
              "      <td>0.0</td>\n",
              "      <td>0.0</td>\n",
              "      <td>0.0</td>\n",
              "      <td>0.0</td>\n",
              "      <td>0.0</td>\n",
              "      <td>NaN</td>\n",
              "      <td>NaN</td>\n",
              "      <td>1.0</td>\n",
              "      <td>1.0</td>\n",
              "      <td>0.0</td>\n",
              "      <td>0.0</td>\n",
              "    </tr>\n",
              "  </tbody>\n",
              "</table>\n",
              "</div>"
            ],
            "text/plain": [
              "         party  ...  export-administration-act-south-africa\n",
              "0   republican  ...                                     1.0\n",
              "1   republican  ...                                     NaN\n",
              "7   republican  ...                                     1.0\n",
              "8   republican  ...                                     1.0\n",
              "10  republican  ...                                     0.0\n",
              "\n",
              "[5 rows x 17 columns]"
            ]
          },
          "metadata": {
            "tags": []
          },
          "execution_count": 70
        }
      ]
    },
    {
      "cell_type": "code",
      "metadata": {
        "id": "7J1J0UocnUKL",
        "colab_type": "code",
        "colab": {
          "base_uri": "https://localhost:8080/",
          "height": 296
        },
        "outputId": "2c230287-baad-41f6-e177-9aea9dc31f1d"
      },
      "source": [
        "dem = votes[votes['party']=='democrat']\n",
        "print(dem.shape)\n",
        "dem.head()"
      ],
      "execution_count": 71,
      "outputs": [
        {
          "output_type": "stream",
          "text": [
            "(267, 17)\n"
          ],
          "name": "stdout"
        },
        {
          "output_type": "execute_result",
          "data": {
            "text/html": [
              "<div>\n",
              "<style scoped>\n",
              "    .dataframe tbody tr th:only-of-type {\n",
              "        vertical-align: middle;\n",
              "    }\n",
              "\n",
              "    .dataframe tbody tr th {\n",
              "        vertical-align: top;\n",
              "    }\n",
              "\n",
              "    .dataframe thead th {\n",
              "        text-align: right;\n",
              "    }\n",
              "</style>\n",
              "<table border=\"1\" class=\"dataframe\">\n",
              "  <thead>\n",
              "    <tr style=\"text-align: right;\">\n",
              "      <th></th>\n",
              "      <th>party</th>\n",
              "      <th>handicapped-infants</th>\n",
              "      <th>water-project-cost-sharing</th>\n",
              "      <th>adoption-of-the-budget-resolution</th>\n",
              "      <th>physician-fee-freeze</th>\n",
              "      <th>el-salvador-aid</th>\n",
              "      <th>religious-groups-in-schools</th>\n",
              "      <th>anti-satellite-test-ban</th>\n",
              "      <th>aid-to-nicaraguan-contras</th>\n",
              "      <th>mx-missile</th>\n",
              "      <th>immigration</th>\n",
              "      <th>synfuels-corporation-cutback</th>\n",
              "      <th>education-spending</th>\n",
              "      <th>superfund-right-to-sue</th>\n",
              "      <th>crime</th>\n",
              "      <th>duty-free-exports</th>\n",
              "      <th>export-administration-act-south-africa</th>\n",
              "    </tr>\n",
              "  </thead>\n",
              "  <tbody>\n",
              "    <tr>\n",
              "      <th>2</th>\n",
              "      <td>democrat</td>\n",
              "      <td>NaN</td>\n",
              "      <td>1.0</td>\n",
              "      <td>1.0</td>\n",
              "      <td>NaN</td>\n",
              "      <td>1.0</td>\n",
              "      <td>1.0</td>\n",
              "      <td>0.0</td>\n",
              "      <td>0.0</td>\n",
              "      <td>0.0</td>\n",
              "      <td>0.0</td>\n",
              "      <td>1.0</td>\n",
              "      <td>0.0</td>\n",
              "      <td>1.0</td>\n",
              "      <td>1.0</td>\n",
              "      <td>0.0</td>\n",
              "      <td>0.0</td>\n",
              "    </tr>\n",
              "    <tr>\n",
              "      <th>3</th>\n",
              "      <td>democrat</td>\n",
              "      <td>0.0</td>\n",
              "      <td>1.0</td>\n",
              "      <td>1.0</td>\n",
              "      <td>0.0</td>\n",
              "      <td>NaN</td>\n",
              "      <td>1.0</td>\n",
              "      <td>0.0</td>\n",
              "      <td>0.0</td>\n",
              "      <td>0.0</td>\n",
              "      <td>0.0</td>\n",
              "      <td>1.0</td>\n",
              "      <td>0.0</td>\n",
              "      <td>1.0</td>\n",
              "      <td>0.0</td>\n",
              "      <td>0.0</td>\n",
              "      <td>1.0</td>\n",
              "    </tr>\n",
              "    <tr>\n",
              "      <th>4</th>\n",
              "      <td>democrat</td>\n",
              "      <td>1.0</td>\n",
              "      <td>1.0</td>\n",
              "      <td>1.0</td>\n",
              "      <td>0.0</td>\n",
              "      <td>1.0</td>\n",
              "      <td>1.0</td>\n",
              "      <td>0.0</td>\n",
              "      <td>0.0</td>\n",
              "      <td>0.0</td>\n",
              "      <td>0.0</td>\n",
              "      <td>1.0</td>\n",
              "      <td>NaN</td>\n",
              "      <td>1.0</td>\n",
              "      <td>1.0</td>\n",
              "      <td>1.0</td>\n",
              "      <td>1.0</td>\n",
              "    </tr>\n",
              "    <tr>\n",
              "      <th>5</th>\n",
              "      <td>democrat</td>\n",
              "      <td>0.0</td>\n",
              "      <td>1.0</td>\n",
              "      <td>1.0</td>\n",
              "      <td>0.0</td>\n",
              "      <td>1.0</td>\n",
              "      <td>1.0</td>\n",
              "      <td>0.0</td>\n",
              "      <td>0.0</td>\n",
              "      <td>0.0</td>\n",
              "      <td>0.0</td>\n",
              "      <td>0.0</td>\n",
              "      <td>0.0</td>\n",
              "      <td>1.0</td>\n",
              "      <td>1.0</td>\n",
              "      <td>1.0</td>\n",
              "      <td>1.0</td>\n",
              "    </tr>\n",
              "    <tr>\n",
              "      <th>6</th>\n",
              "      <td>democrat</td>\n",
              "      <td>0.0</td>\n",
              "      <td>1.0</td>\n",
              "      <td>0.0</td>\n",
              "      <td>1.0</td>\n",
              "      <td>1.0</td>\n",
              "      <td>1.0</td>\n",
              "      <td>0.0</td>\n",
              "      <td>0.0</td>\n",
              "      <td>0.0</td>\n",
              "      <td>0.0</td>\n",
              "      <td>0.0</td>\n",
              "      <td>0.0</td>\n",
              "      <td>NaN</td>\n",
              "      <td>1.0</td>\n",
              "      <td>1.0</td>\n",
              "      <td>1.0</td>\n",
              "    </tr>\n",
              "  </tbody>\n",
              "</table>\n",
              "</div>"
            ],
            "text/plain": [
              "      party  ...  export-administration-act-south-africa\n",
              "2  democrat  ...                                     0.0\n",
              "3  democrat  ...                                     1.0\n",
              "4  democrat  ...                                     1.0\n",
              "5  democrat  ...                                     1.0\n",
              "6  democrat  ...                                     1.0\n",
              "\n",
              "[5 rows x 17 columns]"
            ]
          },
          "metadata": {
            "tags": []
          },
          "execution_count": 71
        }
      ]
    },
    {
      "cell_type": "code",
      "metadata": {
        "id": "tIk4y1WitcaT",
        "colab_type": "code",
        "colab": {
          "base_uri": "https://localhost:8080/",
          "height": 330
        },
        "outputId": "f1423c91-fa6a-4d8b-f7e2-8571420a0e0a"
      },
      "source": [
        "votes.dtypes"
      ],
      "execution_count": 72,
      "outputs": [
        {
          "output_type": "execute_result",
          "data": {
            "text/plain": [
              "party                                      object\n",
              "handicapped-infants                       float64\n",
              "water-project-cost-sharing                float64\n",
              "adoption-of-the-budget-resolution         float64\n",
              "physician-fee-freeze                      float64\n",
              "el-salvador-aid                           float64\n",
              "religious-groups-in-schools               float64\n",
              "anti-satellite-test-ban                   float64\n",
              "aid-to-nicaraguan-contras                 float64\n",
              "mx-missile                                float64\n",
              "immigration                               float64\n",
              "synfuels-corporation-cutback              float64\n",
              "education-spending                        float64\n",
              "superfund-right-to-sue                    float64\n",
              "crime                                     float64\n",
              "duty-free-exports                         float64\n",
              "export-administration-act-south-africa    float64\n",
              "dtype: object"
            ]
          },
          "metadata": {
            "tags": []
          },
          "execution_count": 72
        }
      ]
    },
    {
      "cell_type": "code",
      "metadata": {
        "id": "kFEd7Dm_3Gbc",
        "colab_type": "code",
        "colab": {
          "base_uri": "https://localhost:8080/",
          "height": 34
        },
        "outputId": "0f91d433-57fe-4c00-fd1f-356437663932"
      },
      "source": [
        "ttest_ind(dem['handicapped-infants'], rep['handicapped-infants'], nan_policy='omit')"
      ],
      "execution_count": 74,
      "outputs": [
        {
          "output_type": "execute_result",
          "data": {
            "text/plain": [
              "Ttest_indResult(statistic=9.205264294809222, pvalue=1.613440327937243e-18)"
            ]
          },
          "metadata": {
            "tags": []
          },
          "execution_count": 74
        }
      ]
    },
    {
      "cell_type": "code",
      "metadata": {
        "id": "25u9F-u5udEi",
        "colab_type": "code",
        "colab": {}
      },
      "source": [
        "def p_value(dem, rep):\n",
        "   print(ttest_ind(dem, rep, nan_policy='omit')[1])"
      ],
      "execution_count": 0,
      "outputs": []
    },
    {
      "cell_type": "code",
      "metadata": {
        "id": "rXYDekwZBtxn",
        "colab_type": "code",
        "colab": {}
      },
      "source": [
        "def stat(dem, rep):\n",
        "   print(ttest_ind(dem, rep, nan_policy='omit')[0])"
      ],
      "execution_count": 0,
      "outputs": []
    },
    {
      "cell_type": "code",
      "metadata": {
        "id": "EgeFt347quNt",
        "colab_type": "code",
        "colab": {
          "base_uri": "https://localhost:8080/",
          "height": 295
        },
        "outputId": "198469a7-7a6e-4aee-f567-c0616c7cb7a2"
      },
      "source": [
        "for column in dem:\n",
        "  if column !='party': \n",
        "    p_value(dem[column], rep[column])"
      ],
      "execution_count": 79,
      "outputs": [
        {
          "output_type": "stream",
          "text": [
            "1.613440327937243e-18\n",
            "0.9291556823993485\n",
            "2.0703402795404463e-77\n",
            "1.994262314074344e-177\n",
            "5.600520111729011e-68\n",
            "2.3936722520597287e-20\n",
            "8.521033017443867e-31\n",
            "2.82471841372357e-54\n",
            "5.03079265310811e-47\n",
            "0.08330248490425066\n",
            "1.5759322301054064e-15\n",
            "1.8834203990450192e-64\n",
            "1.2278581709672758e-34\n",
            "9.952342705606092e-47\n",
            "5.997697174347365e-32\n",
            "3.652674361672226e-11\n"
          ],
          "name": "stdout"
        }
      ]
    },
    {
      "cell_type": "code",
      "metadata": {
        "id": "Z_qJqVmtAXjQ",
        "colab_type": "code",
        "colab": {
          "base_uri": "https://localhost:8080/",
          "height": 295
        },
        "outputId": "3a5f4c2e-3fcf-4359-eeb0-351f5b150094"
      },
      "source": [
        "for column in dem:\n",
        "  if column !='party': \n",
        "    stat(dem[column], rep[column])"
      ],
      "execution_count": 84,
      "outputs": [
        {
          "output_type": "stream",
          "text": [
            "9.205264294809222\n",
            "-0.08896538137868286\n",
            "23.21277691701378\n",
            "-49.36708157301406\n",
            "-21.13669261173219\n",
            "-9.737575825219457\n",
            "12.526187929077842\n",
            "18.052093200819733\n",
            "16.437503268542994\n",
            "-1.7359117329695164\n",
            "8.293603989407588\n",
            "-20.500685724563073\n",
            "-13.51064251060933\n",
            "-16.342085656197696\n",
            "12.853146132542978\n",
            "6.849454815841208\n"
          ],
          "name": "stdout"
        }
      ]
    },
    {
      "cell_type": "code",
      "metadata": {
        "id": "88zBys_NdLZd",
        "colab_type": "code",
        "colab": {
          "base_uri": "https://localhost:8080/",
          "height": 573
        },
        "outputId": "17fd9554-b973-461b-a238-8ff802d15d94"
      },
      "source": [
        "for column in dem:\n",
        "  if column !='party': \n",
        "    stat(dem[column], rep[column]), p_value(dem[column], rep[column])"
      ],
      "execution_count": 105,
      "outputs": [
        {
          "output_type": "stream",
          "text": [
            "9.205264294809222\n",
            "1.613440327937243e-18\n",
            "-0.08896538137868286\n",
            "0.9291556823993485\n",
            "23.21277691701378\n",
            "2.0703402795404463e-77\n",
            "-49.36708157301406\n",
            "1.994262314074344e-177\n",
            "-21.13669261173219\n",
            "5.600520111729011e-68\n",
            "-9.737575825219457\n",
            "2.3936722520597287e-20\n",
            "12.526187929077842\n",
            "8.521033017443867e-31\n",
            "18.052093200819733\n",
            "2.82471841372357e-54\n",
            "16.437503268542994\n",
            "5.03079265310811e-47\n",
            "-1.7359117329695164\n",
            "0.08330248490425066\n",
            "8.293603989407588\n",
            "1.5759322301054064e-15\n",
            "-20.500685724563073\n",
            "1.8834203990450192e-64\n",
            "-13.51064251060933\n",
            "1.2278581709672758e-34\n",
            "-16.342085656197696\n",
            "9.952342705606092e-47\n",
            "12.853146132542978\n",
            "5.997697174347365e-32\n",
            "6.849454815841208\n",
            "3.652674361672226e-11\n"
          ],
          "name": "stdout"
        }
      ]
    },
    {
      "cell_type": "code",
      "metadata": {
        "id": "wXBSCeq8w83S",
        "colab_type": "code",
        "colab": {
          "base_uri": "https://localhost:8080/",
          "height": 156
        },
        "outputId": "f2f504d4-e1b1-4d64-e0a8-2d96f8b5c861"
      },
      "source": [
        "votes.columns"
      ],
      "execution_count": 98,
      "outputs": [
        {
          "output_type": "execute_result",
          "data": {
            "text/plain": [
              "Index(['party', 'handicapped-infants', 'water-project-cost-sharing',\n",
              "       'adoption-of-the-budget-resolution', 'physician-fee-freeze',\n",
              "       'el-salvador-aid', 'religious-groups-in-schools',\n",
              "       'anti-satellite-test-ban', 'aid-to-nicaraguan-contras', 'mx-missile',\n",
              "       'immigration', 'synfuels-corporation-cutback', 'education-spending',\n",
              "       'superfund-right-to-sue', 'crime', 'duty-free-exports',\n",
              "       'export-administration-act-south-africa'],\n",
              "      dtype='object')"
            ]
          },
          "metadata": {
            "tags": []
          },
          "execution_count": 98
        }
      ]
    },
    {
      "cell_type": "code",
      "metadata": {
        "id": "_Ll4T11mqufQ",
        "colab_type": "code",
        "colab": {}
      },
      "source": [
        ""
      ],
      "execution_count": 0,
      "outputs": []
    },
    {
      "cell_type": "markdown",
      "metadata": {
        "id": "jtOy4RyVgAYg",
        "colab_type": "text"
      },
      "source": [
        "#2\n",
        "Based off the t-stat of 23.2 and p-value of 2.07e-77, it seems water-project-cost-sharing was an issues Democrats favored over Republicans"
      ]
    },
    {
      "cell_type": "markdown",
      "metadata": {
        "id": "kuESMp7OgAnm",
        "colab_type": "text"
      },
      "source": [
        "#3\n",
        "Based off the t-stat of -49.36 and p-value of 1.99e-177, adoption-of-the-budget-resolution was more favored by Republicans than Democrats."
      ]
    },
    {
      "cell_type": "markdown",
      "metadata": {
        "id": "KLZfUYSwgA2c",
        "colab_type": "text"
      },
      "source": [
        "#4 \n",
        "From The t-stat of -0.089 and p-value of 0.93, I would conclude that water-project-cost-sharing has bipartisan support\n"
      ]
    },
    {
      "cell_type": "markdown",
      "metadata": {
        "id": "wcA_AvvRAqW_",
        "colab_type": "text"
      },
      "source": [
        "## Stretch Goals:\n",
        "\n",
        "1. Refactor your code into functions so it's easy to rerun with arbitrary variables\n",
        "2. Work on Performing a T-test without using Scipy in order to get \"under the hood\" and learn more thoroughly about this topic.\n",
        "### Start with a 1-sample t-test\n",
        " - Establish the conditions for your test \n",
        " - [Calculate the T Statistic](https://blog.minitab.com/hs-fs/hubfs/Imported_Blog_Media/701f9c0efa98a38fb397f3c3ec459b66.png?width=247&height=172&name=701f9c0efa98a38fb397f3c3ec459b66.png) (You'll need to omit NaN values from your sample).\n",
        " - Translate that t-statistic into a P-value. You can use a [table](https://www.google.com/search?q=t+statistic+table) or the [University of Iowa Applet](https://homepage.divms.uiowa.edu/~mbognar/applets/t.html)\n",
        "\n",
        " ### Then try a 2-sample t-test\n",
        " - Establish the conditions for your test \n",
        " - [Calculate the T Statistic](https://lh3.googleusercontent.com/proxy/rJJ5ZOL9ZDvKOOeBihXoZDgfk7uv1YsRzSQ1Tc10RX-r2HrRpRLVqlE9CWX23csYQXcTniFwlBg3H-qR8MKJPBGnjwndqlhDX3JxoDE5Yg) (You'll need to omit NaN values from your sample).\n",
        " - Translate that t-statistic into a P-value. You can use a [table](https://www.google.com/search?q=t+statistic+table) or the [University of Iowa Applet](https://homepage.divms.uiowa.edu/~mbognar/applets/t.html)\n",
        "\n",
        " ### Then check your Answers using Scipy!"
      ]
    },
    {
      "cell_type": "code",
      "metadata": {
        "id": "dPmXOHh1Cfea",
        "colab_type": "code",
        "colab": {}
      },
      "source": [
        ""
      ],
      "execution_count": 0,
      "outputs": []
    }
  ]
}